{
  "nbformat": 4,
  "nbformat_minor": 0,
  "metadata": {
    "colab": {
      "provenance": [],
      "authorship_tag": "ABX9TyPTyBmhfEqB38JlWn9bF659",
      "include_colab_link": true
    },
    "kernelspec": {
      "name": "python3",
      "display_name": "Python 3"
    },
    "language_info": {
      "name": "python"
    }
  },
  "cells": [
    {
      "cell_type": "markdown",
      "metadata": {
        "id": "view-in-github",
        "colab_type": "text"
      },
      "source": [
        "<a href=\"https://colab.research.google.com/github/Nivedhasriram/Machine-Learning-and-Algorithms/blob/main/Simple_Linear_Regression_Assignment.ipynb\" target=\"_parent\"><img src=\"https://colab.research.google.com/assets/colab-badge.svg\" alt=\"Open In Colab\"/></a>"
      ]
    },
    {
      "cell_type": "code",
      "execution_count": null,
      "metadata": {
        "id": "OYvx6wuU0Tiu"
      },
      "outputs": [],
      "source": [
        "import numpy as np"
      ]
    },
    {
      "cell_type": "code",
      "source": [
        "x = np.array([0,1,2,3,4,5,6,7,8,9])\n",
        "y = np.array([1,3,2,5,7,8,8,9,10,12])"
      ],
      "metadata": {
        "id": "gk6vx3oC12V_"
      },
      "execution_count": null,
      "outputs": []
    },
    {
      "cell_type": "code",
      "source": [
        "x_mean = np.mean(x)\n",
        "y_mean = np.mean(y)"
      ],
      "metadata": {
        "id": "0WPTLrGP85c3"
      },
      "execution_count": null,
      "outputs": []
    },
    {
      "cell_type": "code",
      "source": [
        "# slope and intercept\n",
        "m = np.sum((x - x_mean) * (y - y_mean)) / np.sum((x - x_mean) ** 2)\n",
        "b = y_mean - m * x_mean"
      ],
      "metadata": {
        "id": "SWVE_HyK8-hr"
      },
      "execution_count": null,
      "outputs": []
    },
    {
      "cell_type": "code",
      "source": [
        "print(\"Slope = \", m)\n",
        "print(\"Intercept = \",b)"
      ],
      "metadata": {
        "colab": {
          "base_uri": "https://localhost:8080/"
        },
        "id": "HOBX11F09Etp",
        "outputId": "0698149f-ba0c-4a5a-b2c1-40ad9538b792"
      },
      "execution_count": null,
      "outputs": [
        {
          "output_type": "stream",
          "name": "stdout",
          "text": [
            "Slope =  1.1696969696969697\n",
            "Intercept =  1.2363636363636363\n"
          ]
        }
      ]
    },
    {
      "cell_type": "code",
      "source": [
        "y_pred = m * x + b\n",
        "SSE = np.sum((y - y_pred) ** 2)"
      ],
      "metadata": {
        "id": "5FU9G5Zv9dNh"
      },
      "execution_count": null,
      "outputs": []
    },
    {
      "cell_type": "code",
      "source": [
        "print(\"Sum squared error : \", SSE)"
      ],
      "metadata": {
        "colab": {
          "base_uri": "https://localhost:8080/"
        },
        "id": "KOP-F6UC9gWt",
        "outputId": "6862c384-7468-4382-f42f-4a9e6423b9fb"
      },
      "execution_count": null,
      "outputs": [
        {
          "output_type": "stream",
          "name": "stdout",
          "text": [
            "Sum squared error :  5.624242424242423\n"
          ]
        }
      ]
    },
    {
      "cell_type": "code",
      "source": [
        "SS_tot = np.sum((y- y_mean) ** 2)\n",
        "R_squared = 1 - (SSE / SS_tot)\n",
        "print(\"R-squared : \",R_squared)"
      ],
      "metadata": {
        "colab": {
          "base_uri": "https://localhost:8080/"
        },
        "id": "a5Himf2x985B",
        "outputId": "108f84cf-bd89-4aea-8c53-434195fb17d0"
      },
      "execution_count": null,
      "outputs": [
        {
          "output_type": "stream",
          "name": "stdout",
          "text": [
            "R-squared :  0.952538038613988\n"
          ]
        }
      ]
    },
    {
      "cell_type": "code",
      "source": [
        "# Gradient descent implementation\n",
        "def gradient_descent(x,y,learning_rate = 0.01, epochs=1000):\n",
        "    m ,b = 0, 0\n",
        "    N = len(y)\n",
        "    for _ in range(epochs):\n",
        "        y_pred = m * x + b\n",
        "        m_grad = (-2 / N) * np.sum(x * (y - y_pred))\n",
        "        b_grad = (-2 / N) * np.sum(y - y_pred)\n",
        "        m -= learning_rate * m_grad\n",
        "        b -= learning_rate * b_grad\n",
        "    return m,b"
      ],
      "metadata": {
        "id": "fUcZMkHA-OE-"
      },
      "execution_count": null,
      "outputs": []
    },
    {
      "cell_type": "code",
      "source": [
        "m_gd, b_gd = gradient_descent(x, y)\n",
        "print(f\"Full GD: Slope (m) = {m_gd}, Intercept (b) = {b_gd}\")"
      ],
      "metadata": {
        "colab": {
          "base_uri": "https://localhost:8080/"
        },
        "id": "nrVSuRh4AL9B",
        "outputId": "d709d739-11b0-4fc8-8e0a-7e115c9cd3dd"
      },
      "execution_count": null,
      "outputs": [
        {
          "output_type": "stream",
          "name": "stdout",
          "text": [
            "Full GD: Slope (m) = 1.170263693076768, Intercept (b) = 1.2328099487610318\n"
          ]
        }
      ]
    },
    {
      "cell_type": "code",
      "source": [
        "y_pred_gd = m_gd * x + b_gd\n",
        "SSE_gd = np.sum((y - y_pred_gd) ** 2)\n",
        "R_sqaured_gd = 1 - (SSE_gd / SS_tot)"
      ],
      "metadata": {
        "id": "PbIFktm7AWLP"
      },
      "execution_count": null,
      "outputs": []
    },
    {
      "cell_type": "code",
      "source": [
        "print(\"Sum squared error (Gradient descent): \", SSE_gd)\n",
        "print(\"R-squared (Gradient descent): \", R_sqaured_gd)"
      ],
      "metadata": {
        "colab": {
          "base_uri": "https://localhost:8080/"
        },
        "id": "zwWe62oFAe08",
        "outputId": "958f1b9c-fda7-402a-c975-3b547e6e8df4"
      },
      "execution_count": null,
      "outputs": [
        {
          "output_type": "stream",
          "name": "stdout",
          "text": [
            "Sum squared error (Gradient descent):  5.624278989977716\n",
            "R-squared (Gradient descent):  0.9525377300423822\n"
          ]
        }
      ]
    },
    {
      "cell_type": "code",
      "source": [
        "#Stochastic Gradeint Descent Implementation\n",
        "def gradient_descent_stochastic(x,y,learning_rate = 0.01, epochs=1000):\n",
        "  m , b = 0,0\n",
        "  N = len(y)\n",
        "  for _ in range(epochs):\n",
        "    for i in range(N):\n",
        "      y_pred = m * x[i] + b\n",
        "      m_grad = -2 * x[i] * (y[i] - y_pred)\n",
        "      b_grad = -2 * (y[i] - y_pred)\n",
        "      m -= learning_rate * m_grad\n",
        "      b -= learning_rate * b_grad\n",
        "  return m,b"
      ],
      "metadata": {
        "id": "HxvkY0uoArxV"
      },
      "execution_count": null,
      "outputs": []
    },
    {
      "cell_type": "code",
      "source": [
        "m_gd_stochastic, b_gd_stochastic = gradient_descent_stochastic(x, y)\n",
        "print(f\"Stochastic GD: Slope (m) = {m_gd_stochastic}, Intercept (b) = {b_gd_stochastic}\")"
      ],
      "metadata": {
        "colab": {
          "base_uri": "https://localhost:8080/"
        },
        "id": "cEPw0aqNBOMD",
        "outputId": "56e611c8-5bbb-4bbf-bc56-69cf6da02623"
      },
      "execution_count": null,
      "outputs": [
        {
          "output_type": "stream",
          "name": "stdout",
          "text": [
            "Stochastic GD: Slope (m) = 1.2986755729435908, Intercept (b) = 0.8967040680508923\n"
          ]
        }
      ]
    },
    {
      "cell_type": "code",
      "source": [
        "y_pred_gd_stochastic = m_gd_stochastic * x + b_gd_stochastic\n",
        "SSE_gd_stochastic = np.sum((y - y_pred_gd_stochastic) ** 2)\n",
        "R_squared_gd_stochastic = 1 - (SSE_gd_stochastic / SS_tot)"
      ],
      "metadata": {
        "id": "9HF1KgUDBVFw"
      },
      "execution_count": null,
      "outputs": []
    },
    {
      "cell_type": "code",
      "source": [
        "print(\"Sum squared error (Stochastic Gradient Descent): \", SSE_gd_stochastic)\n",
        "print(\"R-squared (Stochastic Gradient Descent): \", R_squared_gd_stochastic)"
      ],
      "metadata": {
        "id": "6lQZRryYBb4P",
        "outputId": "067c7d1d-7995-420a-dd8f-83b5a465c9ad",
        "colab": {
          "base_uri": "https://localhost:8080/"
        }
      },
      "execution_count": null,
      "outputs": [
        {
          "output_type": "stream",
          "name": "stdout",
          "text": [
            "Sum squared error (Stochastic Gradient Descent):  7.576246971879953\n",
            "R-squared (Stochastic Gradient Descent):  0.9360654263976376\n"
          ]
        }
      ]
    },
    {
      "cell_type": "code",
      "source": [],
      "metadata": {
        "id": "wUBBnE3bBfBk"
      },
      "execution_count": null,
      "outputs": []
    }
  ]
}