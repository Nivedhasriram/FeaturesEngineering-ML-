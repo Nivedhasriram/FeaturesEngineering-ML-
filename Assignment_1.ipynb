{
  "nbformat": 4,
  "nbformat_minor": 0,
  "metadata": {
    "colab": {
      "provenance": [],
      "authorship_tag": "ABX9TyNHl0uvjZU6YF7d6MAlJ+MD",
      "include_colab_link": true
    },
    "kernelspec": {
      "name": "python3",
      "display_name": "Python 3"
    },
    "language_info": {
      "name": "python"
    }
  },
  "cells": [
    {
      "cell_type": "markdown",
      "metadata": {
        "id": "view-in-github",
        "colab_type": "text"
      },
      "source": [
        "<a href=\"https://colab.research.google.com/github/Nivedhasriram/FeaturesEngineering-ML-/blob/main/Assignment_1.ipynb\" target=\"_parent\"><img src=\"https://colab.research.google.com/assets/colab-badge.svg\" alt=\"Open In Colab\"/></a>"
      ]
    },
    {
      "cell_type": "code",
      "execution_count": null,
      "metadata": {
        "id": "-mHmAcjz4Ctq"
      },
      "outputs": [],
      "source": [
        "import numpy as np"
      ]
    },
    {
      "cell_type": "code",
      "source": [
        "# Question-1"
      ],
      "metadata": {
        "id": "IbSxp78i4MDV"
      },
      "execution_count": null,
      "outputs": []
    },
    {
      "cell_type": "code",
      "source": [
        "# 1xn dimensional array\n",
        "N=5\n",
        "vector = np.random.rand(N)"
      ],
      "metadata": {
        "id": "iK5rYGZO4Nr4"
      },
      "execution_count": null,
      "outputs": []
    },
    {
      "cell_type": "code",
      "source": [
        "# mean and variance\n",
        "mean = np.mean(vector)\n",
        "variance = np.var(vector)"
      ],
      "metadata": {
        "id": "gsyH0vV_4Tp2"
      },
      "execution_count": null,
      "outputs": []
    },
    {
      "cell_type": "code",
      "source": [
        "print(\"Vector array:\",vector)\n",
        "print(\"Mean:\",mean)\n",
        "print(\"Variance:\",variance)"
      ],
      "metadata": {
        "colab": {
          "base_uri": "https://localhost:8080/"
        },
        "id": "WQCcPjgv4isH",
        "outputId": "24c1abac-2387-4251-a51c-c7737ddb2f92"
      },
      "execution_count": null,
      "outputs": [
        {
          "output_type": "stream",
          "name": "stdout",
          "text": [
            "Vector array: [0.9974483  0.49347296 0.37067872 0.33278602 0.84218849]\n",
            "Mean: 0.6073148993124154\n",
            "Variance: 0.07033848916085257\n"
          ]
        }
      ]
    },
    {
      "cell_type": "code",
      "source": [
        "# Question-2"
      ],
      "metadata": {
        "id": "QXvqAqbP4yVW"
      },
      "execution_count": null,
      "outputs": []
    },
    {
      "cell_type": "code",
      "source": [
        "# 2 1xM dimensional arrays\n",
        "M= 10\n",
        "vector1 = np.random.rand(M)\n",
        "vector2 = np.random.rand(M)"
      ],
      "metadata": {
        "id": "Pxq1xzP241I4"
      },
      "execution_count": null,
      "outputs": []
    },
    {
      "cell_type": "code",
      "source": [
        "# Covariance matrix and value between vectors\n",
        "covariance_matrix = np.cov(vector1,vector2)\n",
        "covariance = covariance_matrix[0,1]"
      ],
      "metadata": {
        "id": "0Eik6r8l4_l2"
      },
      "execution_count": null,
      "outputs": []
    },
    {
      "cell_type": "code",
      "source": [
        "print(\"Vector 1 array:\",vector1)\n",
        "print(\"Vector 2 array:\",vector2)\n",
        "print(\"Covariance:\",covariance)"
      ],
      "metadata": {
        "colab": {
          "base_uri": "https://localhost:8080/"
        },
        "id": "90O86e6J5Tp2",
        "outputId": "39b79521-acb7-48bc-abdd-a7470e629b7a"
      },
      "execution_count": null,
      "outputs": [
        {
          "output_type": "stream",
          "name": "stdout",
          "text": [
            "Vector 1 array: [0.4001783  0.58551241 0.63208769 0.39471779 0.91925017 0.27608009\n",
            " 0.12310425 0.18645639 0.13915361 0.84677417]\n",
            "Vector 2 array: [0.55692595 0.3473794  0.01027561 0.59002165 0.46793497 0.3721214\n",
            " 0.72366781 0.65321594 0.59076582 0.14365911]\n",
            "Covariance: -0.04370992062534783\n"
          ]
        }
      ]
    },
    {
      "cell_type": "code",
      "source": [
        "# Question-3"
      ],
      "metadata": {
        "id": "ZpNPCbxW5e2P"
      },
      "execution_count": null,
      "outputs": []
    },
    {
      "cell_type": "code",
      "source": [
        "# 2 1xR dimensional arrays\n",
        "R = 8\n",
        "vector1 = np.random.rand(R)\n",
        "vector2 = np.random.rand(R)"
      ],
      "metadata": {
        "id": "-y1VPbXK5pq7"
      },
      "execution_count": null,
      "outputs": []
    },
    {
      "cell_type": "code",
      "source": [
        "# Correlation coefficient matrix\n",
        "correlation_matrix = np.corrcoef(vector1,vector2)\n",
        "correlation = correlation_matrix[0,1]"
      ],
      "metadata": {
        "id": "3JDCNJPN5yLu"
      },
      "execution_count": null,
      "outputs": []
    },
    {
      "cell_type": "code",
      "source": [
        "print(\"Vector 1 array:\",vector1)\n",
        "print(\"Vector 2 array:\",vector2)\n",
        "print(\"Correlation:\",correlation)"
      ],
      "metadata": {
        "colab": {
          "base_uri": "https://localhost:8080/"
        },
        "id": "DriI-nL_6B5Q",
        "outputId": "d6b70e8c-06a5-4d87-90df-6f0561a9e618"
      },
      "execution_count": null,
      "outputs": [
        {
          "output_type": "stream",
          "name": "stdout",
          "text": [
            "Vector 1 array: [0.05168636 0.64013497 0.4384771  0.05930548 0.37650686 0.31142206\n",
            " 0.47100263 0.89398075]\n",
            "Vector 2 array: [0.95877379 0.74464921 0.28454452 0.06265504 0.33793405 0.16046642\n",
            " 0.17447797 0.44481961]\n",
            "Correlation: 0.04523049558769619\n"
          ]
        }
      ]
    },
    {
      "cell_type": "code",
      "source": [
        "# Question-4"
      ],
      "metadata": {
        "id": "3MKz4_x46OAI"
      },
      "execution_count": null,
      "outputs": []
    },
    {
      "cell_type": "code",
      "source": [
        "# LxQ dimensional matrix\n",
        "L = 5\n",
        "Q = 10\n",
        "matrix = np.random.rand(L,Q)"
      ],
      "metadata": {
        "id": "Tld9shXo6U-K"
      },
      "execution_count": null,
      "outputs": []
    },
    {
      "cell_type": "code",
      "source": [
        "# Covariance and coreelation matrix\n",
        "covariance_matrix = np.cov(matrix)\n",
        "correlation_matrix = np.corrcoef(matrix)"
      ],
      "metadata": {
        "id": "T6NyGAYb6fAN"
      },
      "execution_count": null,
      "outputs": []
    },
    {
      "cell_type": "code",
      "source": [
        "print(\"Matrix (Features x Samples):\",matrix)\n",
        "print(\"Covariance matrix:\",covariance_matrix)\n",
        "print(\"Correlation matrix:\",correlation_matrix)"
      ],
      "metadata": {
        "colab": {
          "base_uri": "https://localhost:8080/"
        },
        "id": "ljmHfXXv6rq6",
        "outputId": "5c49d59f-d0b2-46cc-bd06-e2fd523bcf5e"
      },
      "execution_count": null,
      "outputs": [
        {
          "output_type": "stream",
          "name": "stdout",
          "text": [
            "Matrix (Features x Samples): [[0.02090518 0.3039448  0.14827895 0.00156469 0.60466141 0.96286451\n",
            "  0.47067242 0.43376399 0.44584559 0.27633844]\n",
            " [0.61521392 0.65622093 0.51718979 0.75448386 0.10312666 0.54379269\n",
            "  0.01445546 0.10771518 0.31581177 0.16975395]\n",
            " [0.86338479 0.38738406 0.52776273 0.00972911 0.28486454 0.93233635\n",
            "  0.75273744 0.77904265 0.23622962 0.07326399]\n",
            " [0.26491764 0.43478884 0.76511447 0.71063632 0.66757126 0.43726132\n",
            "  0.91923514 0.51730533 0.07631287 0.64183461]\n",
            " [0.30683652 0.49554156 0.87077127 0.60790842 0.30881991 0.279373\n",
            "  0.2559205  0.14295225 0.59007929 0.40763385]]\n",
            "Covariance matrix: [[ 0.08292426 -0.03066211  0.03595727 -0.00540464 -0.02933844]\n",
            " [-0.03066211  0.0722505  -0.00631048 -0.01946854  0.02903549]\n",
            " [ 0.03595727 -0.00631048  0.11223729 -0.00760918 -0.03594142]\n",
            " [-0.00540464 -0.01946854 -0.00760918  0.06255007  0.00229941]\n",
            " [-0.02933844  0.02903549 -0.03594142  0.00229941  0.04683086]]\n",
            "Correlation matrix: [[ 1.         -0.39613274  0.37271544 -0.07504333 -0.47079314]\n",
            " [-0.39613274  1.         -0.07007662 -0.28960032  0.49916323]\n",
            " [ 0.37271544 -0.07007662  1.         -0.09081454 -0.49574752]\n",
            " [-0.07504333 -0.28960032 -0.09081454  1.          0.04248505]\n",
            " [-0.47079314  0.49916323 -0.49574752  0.04248505  1.        ]]\n"
          ]
        }
      ]
    },
    {
      "cell_type": "code",
      "source": [],
      "metadata": {
        "id": "LUc1xyxl7ARe"
      },
      "execution_count": null,
      "outputs": []
    }
  ]
}