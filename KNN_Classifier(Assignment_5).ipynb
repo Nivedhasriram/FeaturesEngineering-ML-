{
  "nbformat": 4,
  "nbformat_minor": 0,
  "metadata": {
    "colab": {
      "provenance": [],
      "authorship_tag": "ABX9TyOZHwR9VGlRo126faqR0Bqa",
      "include_colab_link": true
    },
    "kernelspec": {
      "name": "python3",
      "display_name": "Python 3"
    },
    "language_info": {
      "name": "python"
    }
  },
  "cells": [
    {
      "cell_type": "markdown",
      "metadata": {
        "id": "view-in-github",
        "colab_type": "text"
      },
      "source": [
        "<a href=\"https://colab.research.google.com/github/Nivedhasriram/Machine-Learning-and-Algorithms/blob/main/KNN_Classifier(Assignment_5).ipynb\" target=\"_parent\"><img src=\"https://colab.research.google.com/assets/colab-badge.svg\" alt=\"Open In Colab\"/></a>"
      ]
    },
    {
      "cell_type": "code",
      "execution_count": 1,
      "metadata": {
        "id": "tkmz3F4pSiE8"
      },
      "outputs": [],
      "source": [
        "import numpy as np\n",
        "import pandas as pd\n",
        "import csv\n",
        "import math\n",
        "from collections import Counter\n",
        "import matplotlib.pyplot as plt"
      ]
    },
    {
      "cell_type": "code",
      "source": [
        "iris = pd.read_csv('iris.csv').values\n",
        "print(iris)"
      ],
      "metadata": {
        "colab": {
          "base_uri": "https://localhost:8080/"
        },
        "id": "sh9koAAPVto5",
        "outputId": "14f95c74-6001-4b8f-bbf2-6058c331a577"
      },
      "execution_count": 12,
      "outputs": [
        {
          "output_type": "stream",
          "name": "stdout",
          "text": [
            "[[5.1 3.5 1.4 0.2 'setosa']\n",
            " [4.9 3.0 1.4 0.2 'setosa']\n",
            " [4.7 3.2 1.3 0.2 'setosa']\n",
            " [4.6 3.1 1.5 0.2 'setosa']\n",
            " [5.0 3.6 1.4 0.2 'setosa']\n",
            " [5.4 3.9 1.7 0.4 'setosa']\n",
            " [4.6 3.4 1.4 0.3 'setosa']\n",
            " [5.0 3.4 1.5 0.2 'setosa']\n",
            " [4.4 2.9 1.4 0.2 'setosa']\n",
            " [4.9 3.1 1.5 0.1 'setosa']\n",
            " [5.4 3.7 1.5 0.2 'setosa']\n",
            " [4.8 3.4 1.6 0.2 'setosa']\n",
            " [4.8 3.0 1.4 0.1 'setosa']\n",
            " [4.3 3.0 1.1 0.1 'setosa']\n",
            " [5.8 4.0 1.2 0.2 'setosa']\n",
            " [5.7 4.4 1.5 0.4 'setosa']\n",
            " [5.4 3.9 1.3 0.4 'setosa']\n",
            " [5.1 3.5 1.4 0.3 'setosa']\n",
            " [5.7 3.8 1.7 0.3 'setosa']\n",
            " [5.1 3.8 1.5 0.3 'setosa']\n",
            " [5.4 3.4 1.7 0.2 'setosa']\n",
            " [5.1 3.7 1.5 0.4 'setosa']\n",
            " [4.6 3.6 1.0 0.2 'setosa']\n",
            " [5.1 3.3 1.7 0.5 'setosa']\n",
            " [4.8 3.4 1.9 0.2 'setosa']\n",
            " [5.0 3.0 1.6 0.2 'setosa']\n",
            " [5.0 3.4 1.6 0.4 'setosa']\n",
            " [5.2 3.5 1.5 0.2 'setosa']\n",
            " [5.2 3.4 1.4 0.2 'setosa']\n",
            " [4.7 3.2 1.6 0.2 'setosa']\n",
            " [4.8 3.1 1.6 0.2 'setosa']\n",
            " [5.4 3.4 1.5 0.4 'setosa']\n",
            " [5.2 4.1 1.5 0.1 'setosa']\n",
            " [5.5 4.2 1.4 0.2 'setosa']\n",
            " [4.9 3.1 1.5 0.2 'setosa']\n",
            " [5.0 3.2 1.2 0.2 'setosa']\n",
            " [5.5 3.5 1.3 0.2 'setosa']\n",
            " [4.9 3.6 1.4 0.1 'setosa']\n",
            " [4.4 3.0 1.3 0.2 'setosa']\n",
            " [5.1 3.4 1.5 0.2 'setosa']\n",
            " [5.0 3.5 1.3 0.3 'setosa']\n",
            " [4.5 2.3 1.3 0.3 'setosa']\n",
            " [4.4 3.2 1.3 0.2 'setosa']\n",
            " [5.0 3.5 1.6 0.6 'setosa']\n",
            " [5.1 3.8 1.9 0.4 'setosa']\n",
            " [4.8 3.0 1.4 0.3 'setosa']\n",
            " [5.1 3.8 1.6 0.2 'setosa']\n",
            " [4.6 3.2 1.4 0.2 'setosa']\n",
            " [5.3 3.7 1.5 0.2 'setosa']\n",
            " [5.0 3.3 1.4 0.2 'setosa']\n",
            " [7.0 3.2 4.7 1.4 'versicolor']\n",
            " [6.4 3.2 4.5 1.5 'versicolor']\n",
            " [6.9 3.1 4.9 1.5 'versicolor']\n",
            " [5.5 2.3 4.0 1.3 'versicolor']\n",
            " [6.5 2.8 4.6 1.5 'versicolor']\n",
            " [5.7 2.8 4.5 1.3 'versicolor']\n",
            " [6.3 3.3 4.7 1.6 'versicolor']\n",
            " [4.9 2.4 3.3 1.0 'versicolor']\n",
            " [6.6 2.9 4.6 1.3 'versicolor']\n",
            " [5.2 2.7 3.9 1.4 'versicolor']\n",
            " [5.0 2.0 3.5 1.0 'versicolor']\n",
            " [5.9 3.0 4.2 1.5 'versicolor']\n",
            " [6.0 2.2 4.0 1.0 'versicolor']\n",
            " [6.1 2.9 4.7 1.4 'versicolor']\n",
            " [5.6 2.9 3.6 1.3 'versicolor']\n",
            " [6.7 3.1 4.4 1.4 'versicolor']\n",
            " [5.6 3.0 4.5 1.5 'versicolor']\n",
            " [5.8 2.7 4.1 1.0 'versicolor']\n",
            " [6.2 2.2 4.5 1.5 'versicolor']\n",
            " [5.6 2.5 3.9 1.1 'versicolor']\n",
            " [5.9 3.2 4.8 1.8 'versicolor']\n",
            " [6.1 2.8 4.0 1.3 'versicolor']\n",
            " [6.3 2.5 4.9 1.5 'versicolor']\n",
            " [6.1 2.8 4.7 1.2 'versicolor']\n",
            " [6.4 2.9 4.3 1.3 'versicolor']\n",
            " [6.6 3.0 4.4 1.4 'versicolor']\n",
            " [6.8 2.8 4.8 1.4 'versicolor']\n",
            " [6.7 3.0 5.0 1.7 'versicolor']\n",
            " [6.0 2.9 4.5 1.5 'versicolor']\n",
            " [5.7 2.6 3.5 1.0 'versicolor']\n",
            " [5.5 2.4 3.8 1.1 'versicolor']\n",
            " [5.5 2.4 3.7 1.0 'versicolor']\n",
            " [5.8 2.7 3.9 1.2 'versicolor']\n",
            " [6.0 2.7 5.1 1.6 'versicolor']\n",
            " [5.4 3.0 4.5 1.5 'versicolor']\n",
            " [6.0 3.4 4.5 1.6 'versicolor']\n",
            " [6.7 3.1 4.7 1.5 'versicolor']\n",
            " [6.3 2.3 4.4 1.3 'versicolor']\n",
            " [5.6 3.0 4.1 1.3 'versicolor']\n",
            " [5.5 2.5 4.0 1.3 'versicolor']\n",
            " [5.5 2.6 4.4 1.2 'versicolor']\n",
            " [6.1 3.0 4.6 1.4 'versicolor']\n",
            " [5.8 2.6 4.0 1.2 'versicolor']\n",
            " [5.0 2.3 3.3 1.0 'versicolor']\n",
            " [5.6 2.7 4.2 1.3 'versicolor']\n",
            " [5.7 3.0 4.2 1.2 'versicolor']\n",
            " [5.7 2.9 4.2 1.3 'versicolor']\n",
            " [6.2 2.9 4.3 1.3 'versicolor']\n",
            " [5.1 2.5 3.0 1.1 'versicolor']\n",
            " [5.7 2.8 4.1 1.3 'versicolor']\n",
            " [6.3 3.3 6.0 2.5 'virginica']\n",
            " [5.8 2.7 5.1 1.9 'virginica']\n",
            " [7.1 3.0 5.9 2.1 'virginica']\n",
            " [6.3 2.9 5.6 1.8 'virginica']\n",
            " [6.5 3.0 5.8 2.2 'virginica']\n",
            " [7.6 3.0 6.6 2.1 'virginica']\n",
            " [4.9 2.5 4.5 1.7 'virginica']\n",
            " [7.3 2.9 6.3 1.8 'virginica']\n",
            " [6.7 2.5 5.8 1.8 'virginica']\n",
            " [7.2 3.6 6.1 2.5 'virginica']\n",
            " [6.5 3.2 5.1 2.0 'virginica']\n",
            " [6.4 2.7 5.3 1.9 'virginica']\n",
            " [6.8 3.0 5.5 2.1 'virginica']\n",
            " [5.7 2.5 5.0 2.0 'virginica']\n",
            " [5.8 2.8 5.1 2.4 'virginica']\n",
            " [6.4 3.2 5.3 2.3 'virginica']\n",
            " [6.5 3.0 5.5 1.8 'virginica']\n",
            " [7.7 3.8 6.7 2.2 'virginica']\n",
            " [7.7 2.6 6.9 2.3 'virginica']\n",
            " [6.0 2.2 5.0 1.5 'virginica']\n",
            " [6.9 3.2 5.7 2.3 'virginica']\n",
            " [5.6 2.8 4.9 2.0 'virginica']\n",
            " [7.7 2.8 6.7 2.0 'virginica']\n",
            " [6.3 2.7 4.9 1.8 'virginica']\n",
            " [6.7 3.3 5.7 2.1 'virginica']\n",
            " [7.2 3.2 6.0 1.8 'virginica']\n",
            " [6.2 2.8 4.8 1.8 'virginica']\n",
            " [6.1 3.0 4.9 1.8 'virginica']\n",
            " [6.4 2.8 5.6 2.1 'virginica']\n",
            " [7.2 3.0 5.8 1.6 'virginica']\n",
            " [7.4 2.8 6.1 1.9 'virginica']\n",
            " [7.9 3.8 6.4 2.0 'virginica']\n",
            " [6.4 2.8 5.6 2.2 'virginica']\n",
            " [6.3 2.8 5.1 1.5 'virginica']\n",
            " [6.1 2.6 5.6 1.4 'virginica']\n",
            " [7.7 3.0 6.1 2.3 'virginica']\n",
            " [6.3 3.4 5.6 2.4 'virginica']\n",
            " [6.4 3.1 5.5 1.8 'virginica']\n",
            " [6.0 3.0 4.8 1.8 'virginica']\n",
            " [6.9 3.1 5.4 2.1 'virginica']\n",
            " [6.7 3.1 5.6 2.4 'virginica']\n",
            " [6.9 3.1 5.1 2.3 'virginica']\n",
            " [5.8 2.7 5.1 1.9 'virginica']\n",
            " [6.8 3.2 5.9 2.3 'virginica']\n",
            " [6.7 3.3 5.7 2.5 'virginica']\n",
            " [6.7 3.0 5.2 2.3 'virginica']\n",
            " [6.3 2.5 5.0 1.9 'virginica']\n",
            " [6.5 3.0 5.2 2.0 'virginica']\n",
            " [6.2 3.4 5.4 2.3 'virginica']\n",
            " [5.9 3.0 5.1 1.8 'virginica']]\n"
          ]
        }
      ]
    },
    {
      "cell_type": "code",
      "source": [
        "np.random.shuffle(iris)\n",
        "label_map = {label:idx for idx,label in enumerate(np.unique(iris[:,-1]))}\n",
        "y = np.array([label_map[label] for label in iris[:,-1]])"
      ],
      "metadata": {
        "id": "ssojYX_PNZZw"
      },
      "execution_count": 14,
      "outputs": []
    },
    {
      "cell_type": "code",
      "source": [
        "x = iris[:,:-1]"
      ],
      "metadata": {
        "id": "qAFY_FanRIEV"
      },
      "execution_count": 20,
      "outputs": []
    },
    {
      "cell_type": "code",
      "source": [
        "split = int(0.8 * len(iris))\n",
        "x_train, x_test = x[:split], x[split:]\n",
        "y_train, y_test = y[:split], y[split:]"
      ],
      "metadata": {
        "id": "zxbw9mvARyL0"
      },
      "execution_count": 19,
      "outputs": []
    },
    {
      "cell_type": "code",
      "source": [
        "def euclidean_distance(x1, x2):\n",
        "    return np.sqrt(np.sum((x1 - x2)**2))"
      ],
      "metadata": {
        "id": "Fbmf4O0JR8OK"
      },
      "execution_count": 17,
      "outputs": []
    },
    {
      "cell_type": "code",
      "source": [
        "def knn(x_train,y_train,x_test,k):\n",
        "  predictions = []\n",
        "  for test in x_test:\n",
        "    distances = []\n",
        "    for i in range(len(x_train)):\n",
        "      dist = euclidean_distance(test,x_train[i])\n",
        "      distances.append((dist,y_train[i]))\n",
        "    distances.sort(key = lambda x:x[0])\n",
        "    k_neighbors = distances[:k]\n",
        "    k_labels = [label for _,label in k_neighbors]\n",
        "    common = Counter(k_labels).most_common(1)[0][0]\n",
        "    predictions.append(common)\n",
        "  return np.array(predictions)"
      ],
      "metadata": {
        "id": "VofFD-v8SA5E"
      },
      "execution_count": 30,
      "outputs": []
    },
    {
      "cell_type": "code",
      "source": [
        "def accuracy(y_true,y_pred):\n",
        "  acc = np.sum(y_true == y_pred) / len(y_true)\n",
        "  return acc"
      ],
      "metadata": {
        "id": "E5FCwIIRTm8C"
      },
      "execution_count": 28,
      "outputs": []
    },
    {
      "cell_type": "code",
      "source": [
        "def confusion_matrix(y_true, y_pred):\n",
        "  unique_labels = np.unique(y_true)\n",
        "  num_labels = len(unique_labels)\n",
        "  confusion_matrix = np.zeros((num_labels, num_labels), dtype=int)\n",
        "  for i in range(len(y_true)):\n",
        "    confusion_matrix[int(y_true[i]),int(y_pred[i])] += 1\n",
        "  return confusion_matrix"
      ],
      "metadata": {
        "id": "4BDwDaKgUA5y"
      },
      "execution_count": 23,
      "outputs": []
    },
    {
      "cell_type": "code",
      "source": [
        "k = 5\n",
        "y_pred = knn(x_train,y_train,x_test,k)"
      ],
      "metadata": {
        "id": "rmpdb-GDUuSG"
      },
      "execution_count": 32,
      "outputs": []
    },
    {
      "cell_type": "code",
      "source": [
        "accuracy_score = accuracy(y_test,y_pred)\n",
        "print(f\"Accuracy: {accuracy_score:.2f}\")"
      ],
      "metadata": {
        "colab": {
          "base_uri": "https://localhost:8080/"
        },
        "id": "AQJcF6fAU19A",
        "outputId": "9a288820-c5f1-4606-d35c-5db3d7ccbd48"
      },
      "execution_count": 33,
      "outputs": [
        {
          "output_type": "stream",
          "name": "stdout",
          "text": [
            "Accuracy: 0.97\n"
          ]
        }
      ]
    },
    {
      "cell_type": "code",
      "source": [
        "matrix = confusion_matrix(y_test,y_pred)\n",
        "print(matrix)"
      ],
      "metadata": {
        "colab": {
          "base_uri": "https://localhost:8080/"
        },
        "id": "2Y8tH2IwU4wY",
        "outputId": "46e78b7f-18b1-41d5-e235-22927cf043fe"
      },
      "execution_count": 34,
      "outputs": [
        {
          "output_type": "stream",
          "name": "stdout",
          "text": [
            "[[ 6  0  0]\n",
            " [ 0 11  0]\n",
            " [ 0  1 12]]\n"
          ]
        }
      ]
    },
    {
      "cell_type": "code",
      "source": [
        "k_values = range(1, 10)\n",
        "accuracies = []\n",
        "for k in k_values:\n",
        "    y_pred = knn(x_train, y_train, x_test, k)\n",
        "    accuracy_score = accuracy(y_test, y_pred)\n",
        "    accuracies.append(accuracy_score)"
      ],
      "metadata": {
        "id": "GIe10oXJV0AP"
      },
      "execution_count": 37,
      "outputs": []
    },
    {
      "cell_type": "code",
      "source": [
        "plt.plot(k_values, accuracies,marker='o')\n",
        "plt.xlabel('k')\n",
        "plt.ylabel('Accuracy')\n",
        "plt.title('Accuracy vs. k')\n",
        "plt.show()"
      ],
      "metadata": {
        "colab": {
          "base_uri": "https://localhost:8080/",
          "height": 472
        },
        "id": "TWpTj_oKV8Eo",
        "outputId": "63da9517-c68e-477a-fa9f-f6195185b0b3"
      },
      "execution_count": 38,
      "outputs": [
        {
          "output_type": "display_data",
          "data": {
            "text/plain": [
              "<Figure size 640x480 with 1 Axes>"
            ],
            "image/png": "[encoded data removed]"
          },
          "metadata": {}
        }
      ]
    },
    {
      "cell_type": "code",
      "source": [
        "optimal_k = k_values[np.argmax(accuracies)]\n",
        "print(f\"Optimal k: {optimal_k}\")"
      ],
      "metadata": {
        "colab": {
          "base_uri": "https://localhost:8080/"
        },
        "id": "XFFYAcpPWFEY",
        "outputId": "f4fa2c5f-0221-478d-cfd3-8ebc7ba0ecd3"
      },
      "execution_count": 39,
      "outputs": [
        {
          "output_type": "stream",
          "name": "stdout",
          "text": [
            "Optimal k: 7\n"
          ]
        }
      ]
    },
    {
      "cell_type": "code",
      "source": [],
      "metadata": {
        "id": "QD9fcfG6WdDZ"
      },
      "execution_count": null,
      "outputs": []
    }
  ]
}